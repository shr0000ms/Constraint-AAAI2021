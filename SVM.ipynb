{
 "cells": [
  {
   "cell_type": "code",
   "execution_count": 5,
   "metadata": {},
   "outputs": [],
   "source": [
    "import pandas as pd\n",
    "import numpy as np\n",
    "from sklearn.feature_extraction.text import TfidfVectorizer\n",
    "from sklearn.ensemble import IsolationForest\n",
    "from sklearn.model_selection import KFold\n",
    "import itertools\n",
    "from sklearn.svm import SVC"
   ]
  },
  {
   "cell_type": "markdown",
   "metadata": {},
   "source": [
    "### LOADING DATASET "
   ]
  },
  {
   "cell_type": "code",
   "execution_count": 6,
   "metadata": {},
   "outputs": [
    {
     "name": "stdout",
     "output_type": "stream",
     "text": [
      "(6420,)\n"
     ]
    }
   ],
   "source": [
    "names = ['Tweet', 'Label']\n",
    "df = pd.read_csv('train.csv', sep=',', names=names, header=0)\n",
    "#df_val = pd.read_csv('val.csv', sep=',', names=names, header=0)\n",
    "#df=pd.concat((df_train, df_val))\n",
    "df.dropna(how='any', inplace=True)\n",
    "df.reset_index(drop=True, inplace=True)\n",
    "df[\"Tweet\"] = df['Tweet'].values.astype('U')\n",
    "X = df['Tweet'].to_numpy()\n",
    "y = df['Label'].to_numpy()\n",
    "print(X.shape)"
   ]
  },
  {
   "cell_type": "markdown",
   "metadata": {},
   "source": [
    "### VECTORIZING DATASET"
   ]
  },
  {
   "cell_type": "code",
   "execution_count": 7,
   "metadata": {},
   "outputs": [
    {
     "name": "stdout",
     "output_type": "stream",
     "text": [
      "X shape is (6420, 10000)\n"
     ]
    }
   ],
   "source": [
    "MAX_FEATURES = 10000\n",
    "tfidf = TfidfVectorizer(max_features = MAX_FEATURES)\n",
    "tfidf.fit(X)\n",
    "X_train = tfidf.transform(X)\n",
    "X_train = X_train.todense()\n",
    "X=X_train\n",
    "print('X shape is', X.shape)"
   ]
  },
  {
   "cell_type": "markdown",
   "metadata": {},
   "source": [
    "### REMOVING OUTLIERS"
   ]
  },
  {
   "cell_type": "code",
   "execution_count": null,
   "metadata": {},
   "outputs": [],
   "source": [
    "X=np.array(X)\n",
    "y=np.array(y)"
   ]
  },
  {
   "cell_type": "code",
   "execution_count": null,
   "metadata": {},
   "outputs": [],
   "source": [
    "clf_Iso = IsolationForest(random_state=np.random.RandomState(42),n_jobs = -1)\n",
    "clf_Iso.fit(X)\n",
    "y_Iso_Forest = clf_Iso.predict(X)\n",
    "result = np.where(y_Iso_Forest == -1)\n",
    "result = list(itertools.chain.from_iterable(result))"
   ]
  },
  {
   "cell_type": "code",
   "execution_count": null,
   "metadata": {},
   "outputs": [],
   "source": [
    "X_removed = np.delete(X,result,axis = 0)\n",
    "if y is None:\n",
    "    X=X_removed\n",
    "else:\n",
    "    y_removed = np.delete(y,result,axis = 0)\n",
    "X=X_removed\n",
    "y=y_removed"
   ]
  },
  {
   "cell_type": "code",
   "execution_count": null,
   "metadata": {},
   "outputs": [],
   "source": [
    "print(X.shape, y.shape)"
   ]
  },
  {
   "cell_type": "markdown",
   "metadata": {},
   "source": [
    "### TRAINING SVM MODEL"
   ]
  },
  {
   "cell_type": "code",
   "execution_count": 8,
   "metadata": {},
   "outputs": [
    {
     "name": "stderr",
     "output_type": "stream",
     "text": [
      "C:\\anaconda3\\envs\\NLP\\lib\\site-packages\\sklearn\\model_selection\\_split.py:297: FutureWarning: Setting a random_state has no effect since shuffle is False. This will raise an error in 0.24. You should leave random_state to its default (None), or set shuffle=True.\n",
      "  FutureWarning\n"
     ]
    },
    {
     "name": "stdout",
     "output_type": "stream",
     "text": [
      "----Start Evaluating----\n",
      "Testing Accuracy: 0.9074766355140187\n",
      "----Start Evaluating----\n",
      "Testing Accuracy: 0.9186915887850468\n",
      "----Start Evaluating----\n",
      "Testing Accuracy: 0.9121495327102803\n",
      "Mean testing accuracy: 0.9127725856697819\n"
     ]
    }
   ],
   "source": [
    "kf = KFold(n_splits=3, random_state=1)\n",
    "svm = SVC(C=0.25, kernel='linear')\n",
    "acc_list = []\n",
    "for train_index, test_index in kf.split(X):\n",
    "    X_train, X_test = X[train_index], X[test_index]\n",
    "    y_train, y_test = y[train_index], y[test_index]\n",
    "    svm.fit(X_train, y_train)\n",
    "    print(\"----Start Evaluating----\")\n",
    "    acc = svm.score(X_test, y_test)\n",
    "    acc_list.append(acc)\n",
    "    print(\"Testing Accuracy:\", acc)\n",
    "print(\"Mean testing accuracy:\", sum(acc_list) / len(acc_list))"
   ]
  },
  {
   "cell_type": "markdown",
   "metadata": {},
   "source": [
    "### VALIDATING MODEL"
   ]
  },
  {
   "cell_type": "code",
   "execution_count": 10,
   "metadata": {},
   "outputs": [
    {
     "name": "stdout",
     "output_type": "stream",
     "text": [
      "(2140, 10000)\n",
      "Validation accuracy: 0.9065420560747663\n"
     ]
    }
   ],
   "source": [
    "df_val=pd.read_csv('val.csv', names=names, sep=',', header=0)\n",
    "df_val.dropna(how='any', inplace=True)\n",
    "df_val.reset_index(drop=True, inplace=True)\n",
    "df_val[\"Tweet\"] = df_val['Tweet'].values.astype('U')\n",
    "X_val = df_val['Tweet'].to_numpy()\n",
    "y_val = df_val['Label'].to_numpy()\n",
    "X_val=tfidf.transform(X_val)\n",
    "X_val=X_val.todense()\n",
    "print(X_val.shape)\n",
    "acc_val = svm.score(X_val, y_val)\n",
    "print('Validation accuracy:', acc_val)"
   ]
  },
  {
   "cell_type": "code",
   "execution_count": null,
   "metadata": {},
   "outputs": [],
   "source": []
  }
 ],
 "metadata": {
  "kernelspec": {
   "display_name": "Python 3",
   "language": "python",
   "name": "python3"
  },
  "language_info": {
   "codemirror_mode": {
    "name": "ipython",
    "version": 3
   },
   "file_extension": ".py",
   "mimetype": "text/x-python",
   "name": "python",
   "nbconvert_exporter": "python",
   "pygments_lexer": "ipython3",
   "version": "3.7.9"
  }
 },
 "nbformat": 4,
 "nbformat_minor": 4
}
