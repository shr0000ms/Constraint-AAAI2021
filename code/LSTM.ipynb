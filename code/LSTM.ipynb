{
 "cells": [
  {
   "cell_type": "code",
   "execution_count": 1,
   "metadata": {},
   "outputs": [],
   "source": [
    "import pandas as pd\n",
    "import numpy as np\n",
    "from sklearn.feature_extraction.text import CountVectorizer\n",
    "from sklearn.ensemble import IsolationForest\n",
    "from sklearn.model_selection import KFold\n",
    "import itertools\n",
    "from tensorflow import keras\n",
    "from tensorflow.keras import optimizers, Model"
   ]
  },
  {
   "cell_type": "markdown",
   "metadata": {},
   "source": [
    "### LOADING DATASET"
   ]
  },
  {
   "cell_type": "code",
   "execution_count": 2,
   "metadata": {},
   "outputs": [],
   "source": [
    "names = ['Tweet', 'Label']\n",
    "df = pd.read_csv('fnn_train.csv', sep=',', names=names, header=0)\n",
    "#df_val = pd.read_csv('val.csv', sep=',', names=names, header=0)\n",
    "#df=pd.concat((df_train, df_val))\n",
    "df.dropna(how='any', inplace=True)\n",
    "df.reset_index(drop=True, inplace=True)\n",
    "df[\"Tweet\"] = df['Tweet'].values.astype('U')"
   ]
  },
  {
   "cell_type": "code",
   "execution_count": 3,
   "metadata": {},
   "outputs": [
    {
     "name": "stdout",
     "output_type": "stream",
     "text": [
      "(15212,)\n"
     ]
    }
   ],
   "source": [
    "X = df['Tweet'].to_numpy()\n",
    "y = df['Label'].to_numpy()\n",
    "print(X.shape)"
   ]
  },
  {
   "cell_type": "markdown",
   "metadata": {},
   "source": [
    "### VECTORIZING DATASET"
   ]
  },
  {
   "cell_type": "code",
   "execution_count": 4,
   "metadata": {},
   "outputs": [],
   "source": [
    "MAX_FEATURES = 10000"
   ]
  },
  {
   "cell_type": "code",
   "execution_count": 5,
   "metadata": {},
   "outputs": [
    {
     "name": "stdout",
     "output_type": "stream",
     "text": [
      "X shape is (15212, 10000)\n"
     ]
    }
   ],
   "source": [
    "cv = CountVectorizer(max_features = MAX_FEATURES)\n",
    "cv.fit(X)\n",
    "X_train = cv.transform(X)\n",
    "X_train = X_train.todense()\n",
    "X=X_train\n",
    "print('X shape is', X.shape)"
   ]
  },
  {
   "cell_type": "markdown",
   "metadata": {},
   "source": [
    "### REMOVING OUTLIERS"
   ]
  },
  {
   "cell_type": "code",
   "execution_count": 9,
   "metadata": {},
   "outputs": [],
   "source": [
    "X=np.array(X)\n",
    "y=np.array(y)"
   ]
  },
  {
   "cell_type": "code",
   "execution_count": 10,
   "metadata": {},
   "outputs": [],
   "source": [
    "clf_Iso = IsolationForest(random_state=np.random.RandomState(42),n_jobs = -1)\n",
    "clf_Iso.fit(X)\n",
    "y_Iso_Forest = clf_Iso.predict(X)\n",
    "result = np.where(y_Iso_Forest == -1)\n",
    "result = list(itertools.chain.from_iterable(result))"
   ]
  },
  {
   "cell_type": "code",
   "execution_count": 11,
   "metadata": {},
   "outputs": [],
   "source": [
    "X_removed = np.delete(X,result,axis = 0)\n",
    "if y is None:\n",
    "    X=X_removed\n",
    "else:\n",
    "    y_removed = np.delete(y,result,axis = 0)\n",
    "X=X_removed\n",
    "y=y_removed"
   ]
  },
  {
   "cell_type": "code",
   "execution_count": 12,
   "metadata": {
    "scrolled": true
   },
   "outputs": [
    {
     "name": "stdout",
     "output_type": "stream",
     "text": [
      "(8558, 10000) (8558,)\n"
     ]
    }
   ],
   "source": [
    "print(X.shape, y.shape)"
   ]
  },
  {
   "cell_type": "markdown",
   "metadata": {},
   "source": [
    "### SETTING PARAMETERS"
   ]
  },
  {
   "cell_type": "code",
   "execution_count": 6,
   "metadata": {},
   "outputs": [],
   "source": [
    "look_back=1\n",
    "num_samples=X.shape[0]\n",
    "num_features=X.shape[1]\n",
    "X = np.reshape(np.array(X), (num_samples, look_back, num_features))"
   ]
  },
  {
   "cell_type": "code",
   "execution_count": 7,
   "metadata": {},
   "outputs": [
    {
     "name": "stdout",
     "output_type": "stream",
     "text": [
      "(15212, 1, 10000)\n"
     ]
    }
   ],
   "source": [
    "print(X.shape)"
   ]
  },
  {
   "cell_type": "code",
   "execution_count": 8,
   "metadata": {},
   "outputs": [],
   "source": [
    "batch_size=128"
   ]
  },
  {
   "cell_type": "code",
   "execution_count": 9,
   "metadata": {},
   "outputs": [],
   "source": [
    "def create_model(look_back=None, input_nodes=None, activation='relu', \n",
    "                optimizer='adam', hidden_layers=2, neurons=400, hidden_units=600):\n",
    "    model = keras.Sequential()\n",
    "    model.add(keras.layers.LSTM(hidden_units, dropout=0.2, \n",
    "                                input_shape=(look_back, input_nodes)))\n",
    "    \n",
    "    for _ in range(hidden_layers):\n",
    "        model.add(keras.layers.Dense(neurons, activation=activation))\n",
    "\n",
    "    model.add(keras.layers.Dense(1, activation='sigmoid'))\n",
    "    model.compile(loss='binary_crossentropy', optimizer=optimizer, \n",
    "                    metrics=['accuracy'])\n",
    "    return model"
   ]
  },
  {
   "cell_type": "markdown",
   "metadata": {},
   "source": [
    "### EVALUATING MODEL WITH CROSS VALIDATION"
   ]
  },
  {
   "cell_type": "code",
   "execution_count": 10,
   "metadata": {},
   "outputs": [
    {
     "name": "stdout",
     "output_type": "stream",
     "text": [
      "Train on 10141 samples, validate on 5071 samples\n",
      "Epoch 1/4\n",
      "10141/10141 [==============================] - 24s 2ms/sample - loss: 0.6161 - accuracy: 0.6460 - val_loss: 0.6014 - val_accuracy: 0.6752\n",
      "Epoch 2/4\n",
      "10141/10141 [==============================] - 21s 2ms/sample - loss: 0.4472 - accuracy: 0.7905 - val_loss: 0.6486 - val_accuracy: 0.6768\n",
      "Epoch 3/4\n",
      "10141/10141 [==============================] - 21s 2ms/sample - loss: 0.2558 - accuracy: 0.8887 - val_loss: 0.8176 - val_accuracy: 0.6713\n",
      "Epoch 4/4\n",
      "10141/10141 [==============================] - 21s 2ms/sample - loss: 0.1348 - accuracy: 0.9472 - val_loss: 0.9816 - val_accuracy: 0.6561\n",
      "----Start Evaluating----\n",
      "5071/5071 [==============================] - 5s 927us/sample - loss: 0.9816 - accuracy: 0.6561\n",
      "Testing Accuracy: 0.6560836\n",
      "Train on 10141 samples, validate on 5071 samples\n",
      "Epoch 1/4\n",
      "10141/10141 [==============================] - 28s 3ms/sample - loss: 0.6211 - accuracy: 0.6402 - val_loss: 0.5644 - val_accuracy: 0.7020\n",
      "Epoch 2/4\n",
      "10141/10141 [==============================] - 21s 2ms/sample - loss: 0.4460 - accuracy: 0.7881 - val_loss: 0.6352 - val_accuracy: 0.6827\n",
      "Epoch 3/4\n",
      "10141/10141 [==============================] - 22s 2ms/sample - loss: 0.2595 - accuracy: 0.8879 - val_loss: 0.7555 - val_accuracy: 0.6896\n",
      "Epoch 4/4\n",
      "10141/10141 [==============================] - 22s 2ms/sample - loss: 0.1407 - accuracy: 0.9458 - val_loss: 1.0830 - val_accuracy: 0.6636\n",
      "----Start Evaluating----\n",
      "5071/5071 [==============================] - 5s 930us/sample - loss: 1.0830 - accuracy: 0.6636\n",
      "Testing Accuracy: 0.6635772\n",
      "Train on 10142 samples, validate on 5070 samples\n",
      "Epoch 1/4\n",
      "10142/10142 [==============================] - 33s 3ms/sample - loss: 0.6208 - accuracy: 0.6442 - val_loss: 0.5872 - val_accuracy: 0.6781\n",
      "Epoch 2/4\n",
      "10142/10142 [==============================] - 22s 2ms/sample - loss: 0.4435 - accuracy: 0.7861 - val_loss: 0.6436 - val_accuracy: 0.6751\n",
      "Epoch 3/4\n",
      "10142/10142 [==============================] - 23s 2ms/sample - loss: 0.2683 - accuracy: 0.8852 - val_loss: 0.7874 - val_accuracy: 0.6767\n",
      "Epoch 4/4\n",
      "10142/10142 [==============================] - 21s 2ms/sample - loss: 0.1431 - accuracy: 0.9457 - val_loss: 0.9519 - val_accuracy: 0.6728\n",
      "----Start Evaluating----\n",
      "5070/5070 [==============================] - 5s 938us/sample - loss: 0.9519 - accuracy: 0.6728\n",
      "Testing Accuracy: 0.67278105\n",
      "Mean testing accuracy: 0.6641472776730856\n"
     ]
    }
   ],
   "source": [
    "epochs = 4 # can change this\n",
    "kf = KFold(n_splits=3, random_state=None)\n",
    "acc_list = []\n",
    "X_train = None # init\n",
    "X_test = None # init\n",
    "y_test = None #init\n",
    "# Doing cross validation testing\n",
    "for train_index, test_index in kf.split(X):\n",
    "    X_train, X_test = X[train_index], X[test_index]\n",
    "    y_train, y_test = y[train_index], y[test_index]\n",
    "    model = create_model(look_back=look_back, input_nodes=num_features)\n",
    "    history = model.fit(X_train, y_train, validation_data=(X_test, y_test), epochs=epochs, batch_size=batch_size)\n",
    "    print(\"----Start Evaluating----\")\n",
    "    _, acc = model.evaluate(X_test, y_test, verbose=1)\n",
    "    acc_list.append(acc)\n",
    "    print(\"Testing Accuracy:\", acc)\n",
    "print(\"Mean testing accuracy:\", sum(acc_list) / len(acc_list))"
   ]
  },
  {
   "cell_type": "markdown",
   "metadata": {},
   "source": [
    "### RUNNING MODEL ON VALIDATION DATASET"
   ]
  },
  {
   "cell_type": "code",
   "execution_count": 17,
   "metadata": {},
   "outputs": [],
   "source": [
    "df_val=pd.read_csv('fnn_test.csv', names=names, sep=',', header=0)\n",
    "df_val.dropna(how='any', inplace=True)\n",
    "df_val.reset_index(drop=True, inplace=True)\n",
    "df_val[\"Tweet\"] = df_val['Tweet'].values.astype('U')\n",
    "X_val = df_val['Tweet'].to_numpy()\n",
    "y_val = df_val['Label'].to_numpy()"
   ]
  },
  {
   "cell_type": "code",
   "execution_count": 18,
   "metadata": {},
   "outputs": [
    {
     "name": "stdout",
     "output_type": "stream",
     "text": [
      "(1058,)\n"
     ]
    }
   ],
   "source": [
    "print(X_val.shape)"
   ]
  },
  {
   "cell_type": "code",
   "execution_count": 19,
   "metadata": {},
   "outputs": [
    {
     "name": "stdout",
     "output_type": "stream",
     "text": [
      "(1058, 10000)\n"
     ]
    }
   ],
   "source": [
    "X_val=cv.transform(X_val)\n",
    "X_val=X_val.todense()\n",
    "print(X_val.shape)"
   ]
  },
  {
   "cell_type": "code",
   "execution_count": 20,
   "metadata": {},
   "outputs": [
    {
     "name": "stdout",
     "output_type": "stream",
     "text": [
      "(1058, 1, 10000)\n"
     ]
    }
   ],
   "source": [
    "num_samples_val=X_val.shape[0]\n",
    "num_features_val=X_val.shape[1]\n",
    "X_val = np.reshape(np.array(X_val), (num_samples_val, look_back, num_features_val))\n",
    "print(X_val.shape)"
   ]
  },
  {
   "cell_type": "code",
   "execution_count": 21,
   "metadata": {},
   "outputs": [
    {
     "name": "stdout",
     "output_type": "stream",
     "text": [
      "1058/1058 [==============================] - 2s 1ms/sample - loss: 0.8524 - accuracy: 0.7042\n"
     ]
    }
   ],
   "source": [
    "_, acc_val = model.evaluate(X_val, y_val, verbose=1)"
   ]
  },
  {
   "cell_type": "code",
   "execution_count": 22,
   "metadata": {},
   "outputs": [
    {
     "name": "stdout",
     "output_type": "stream",
     "text": [
      "Model: \"sequential_2\"\n",
      "_________________________________________________________________\n",
      "Layer (type)                 Output Shape              Param #   \n",
      "=================================================================\n",
      "lstm_2 (LSTM)                (None, 600)               25442400  \n",
      "_________________________________________________________________\n",
      "dense_6 (Dense)              (None, 400)               240400    \n",
      "_________________________________________________________________\n",
      "dense_7 (Dense)              (None, 400)               160400    \n",
      "_________________________________________________________________\n",
      "dense_8 (Dense)              (None, 1)                 401       \n",
      "=================================================================\n",
      "Total params: 25,843,601\n",
      "Trainable params: 25,843,601\n",
      "Non-trainable params: 0\n",
      "_________________________________________________________________\n"
     ]
    }
   ],
   "source": [
    "model.summary()"
   ]
  },
  {
   "cell_type": "code",
   "execution_count": null,
   "metadata": {},
   "outputs": [],
   "source": []
  }
 ],
 "metadata": {
  "kernelspec": {
   "display_name": "Python 3",
   "language": "python",
   "name": "python3"
  },
  "language_info": {
   "codemirror_mode": {
    "name": "ipython",
    "version": 3
   },
   "file_extension": ".py",
   "mimetype": "text/x-python",
   "name": "python",
   "nbconvert_exporter": "python",
   "pygments_lexer": "ipython3",
   "version": "3.7.9"
  }
 },
 "nbformat": 4,
 "nbformat_minor": 4
}
